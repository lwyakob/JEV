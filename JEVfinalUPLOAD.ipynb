{
 "cells": [
  {
   "cell_type": "code",
   "execution_count": 14,
   "id": "6294ea0d",
   "metadata": {},
   "outputs": [],
   "source": [
    "import rasterio\n",
    "from rasterio.mask import mask\n",
    "import geopandas\n",
    "import pandas as pd\n",
    "import numpy as np\n",
    "import matplotlib as mat\n",
    "\n",
    "from matplotlib import pyplot\n",
    "\n",
    "import matplotlib.pyplot as plt\n",
    "\n",
    "from shapely.geometry import Point\n",
    "from shapely.ops import unary_union\n",
    "import pyproj\n",
    "from shapely.ops import transform\n",
    "import json\n",
    "import plotly\n",
    "from plotly import express as px"
   ]
  },
  {
   "cell_type": "code",
   "execution_count": 5,
   "id": "11f86c10",
   "metadata": {},
   "outputs": [],
   "source": [
    "ozPOP = rasterio.open('***address of where    aus_ppp_2020_UNadj.tif   file has been downloaded to***')"
   ]
  },
  {
   "cell_type": "code",
   "execution_count": 6,
   "id": "36a0fc39",
   "metadata": {},
   "outputs": [],
   "source": [
    "pigsLA = np.genfromtxt(\"***address of where    pigsLA.txt   file has been downloaded to***\")\n",
    "pigsLO = np.genfromtxt(\"***address of where    pigsLO.txt   file has been downloaded to***\")"
   ]
  },
  {
   "cell_type": "code",
   "execution_count": 7,
   "id": "a3b1f4a4",
   "metadata": {},
   "outputs": [
    {
     "name": "stdout",
     "output_type": "stream",
     "text": [
      "No. of bands: 1\n"
     ]
    }
   ],
   "source": [
    "print('No. of bands:',(ozPOP.count))"
   ]
  },
  {
   "cell_type": "code",
   "execution_count": 8,
   "id": "eeab39a7",
   "metadata": {},
   "outputs": [
    {
     "data": {
      "text/html": [
       "<div>\n",
       "<style scoped>\n",
       "    .dataframe tbody tr th:only-of-type {\n",
       "        vertical-align: middle;\n",
       "    }\n",
       "\n",
       "    .dataframe tbody tr th {\n",
       "        vertical-align: top;\n",
       "    }\n",
       "\n",
       "    .dataframe thead th {\n",
       "        text-align: right;\n",
       "    }\n",
       "</style>\n",
       "<table border=\"1\" class=\"dataframe\">\n",
       "  <thead>\n",
       "    <tr style=\"text-align: right;\">\n",
       "      <th></th>\n",
       "      <th>geometry</th>\n",
       "    </tr>\n",
       "  </thead>\n",
       "  <tbody>\n",
       "    <tr>\n",
       "      <th>0</th>\n",
       "      <td>POINT (150.24548 -32.11447)</td>\n",
       "    </tr>\n",
       "    <tr>\n",
       "      <th>1</th>\n",
       "      <td>POINT (149.00841 -34.66880)</td>\n",
       "    </tr>\n",
       "    <tr>\n",
       "      <th>2</th>\n",
       "      <td>POINT (150.82004 -33.95713)</td>\n",
       "    </tr>\n",
       "    <tr>\n",
       "      <th>3</th>\n",
       "      <td>POINT (145.55354 -35.72739)</td>\n",
       "    </tr>\n",
       "    <tr>\n",
       "      <th>4</th>\n",
       "      <td>POINT (146.10530 -34.09322)</td>\n",
       "    </tr>\n",
       "  </tbody>\n",
       "</table>\n",
       "</div>"
      ],
      "text/plain": [
       "                      geometry\n",
       "0  POINT (150.24548 -32.11447)\n",
       "1  POINT (149.00841 -34.66880)\n",
       "2  POINT (150.82004 -33.95713)\n",
       "3  POINT (145.55354 -35.72739)\n",
       "4  POINT (146.10530 -34.09322)"
      ]
     },
     "execution_count": 8,
     "metadata": {},
     "output_type": "execute_result"
    }
   ],
   "source": [
    "#create geodataframe with piggery locations\n",
    "\n",
    "geometry = [Point(xy) for xy in zip(pigsLO,pigsLA)]\n",
    "geo_df = geopandas.GeoDataFrame(geometry = geometry)\n",
    "geo_df.head()"
   ]
  },
  {
   "cell_type": "code",
   "execution_count": 9,
   "id": "2cc4e054",
   "metadata": {},
   "outputs": [
    {
     "name": "stderr",
     "output_type": "stream",
     "text": [
      "C:\\Users\\IDCVLYAK\\Anaconda3\\envs\\pygdal\\lib\\site-packages\\pyproj\\crs\\crs.py:131: FutureWarning: '+init=<authority>:<code>' syntax is deprecated. '<authority>:<code>' is the preferred initialization method. When making the change, be mindful of axis order changes: https://pyproj4.github.io/pyproj/stable/gotchas.html#axis-order-changes-in-proj-6\n",
      "  in_crs_string = _prepare_from_proj_string(in_crs_string)\n"
     ]
    },
    {
     "data": {
      "text/html": [
       "<div>\n",
       "<style scoped>\n",
       "    .dataframe tbody tr th:only-of-type {\n",
       "        vertical-align: middle;\n",
       "    }\n",
       "\n",
       "    .dataframe tbody tr th {\n",
       "        vertical-align: top;\n",
       "    }\n",
       "\n",
       "    .dataframe thead th {\n",
       "        text-align: right;\n",
       "    }\n",
       "</style>\n",
       "<table border=\"1\" class=\"dataframe\">\n",
       "  <thead>\n",
       "    <tr style=\"text-align: right;\">\n",
       "      <th></th>\n",
       "      <th>geometry</th>\n",
       "    </tr>\n",
       "  </thead>\n",
       "  <tbody>\n",
       "    <tr>\n",
       "      <th>0</th>\n",
       "      <td>POINT (1701134.496 -3621821.009)</td>\n",
       "    </tr>\n",
       "    <tr>\n",
       "      <th>1</th>\n",
       "      <td>POINT (1548655.253 -3888501.004)</td>\n",
       "    </tr>\n",
       "    <tr>\n",
       "      <th>2</th>\n",
       "      <td>POINT (1724111.221 -3833182.758)</td>\n",
       "    </tr>\n",
       "    <tr>\n",
       "      <th>3</th>\n",
       "      <td>POINT (1222949.961 -3967901.242)</td>\n",
       "    </tr>\n",
       "    <tr>\n",
       "      <th>4</th>\n",
       "      <td>POINT (1292572.489 -3792562.617)</td>\n",
       "    </tr>\n",
       "  </tbody>\n",
       "</table>\n",
       "</div>"
      ],
      "text/plain": [
       "                           geometry\n",
       "0  POINT (1701134.496 -3621821.009)\n",
       "1  POINT (1548655.253 -3888501.004)\n",
       "2  POINT (1724111.221 -3833182.758)\n",
       "3  POINT (1222949.961 -3967901.242)\n",
       "4  POINT (1292572.489 -3792562.617)"
      ]
     },
     "execution_count": 9,
     "metadata": {},
     "output_type": "execute_result"
    }
   ],
   "source": [
    "#convert piggery lat/long to an Australian crs so buffers are accurate\n",
    "\n",
    "geo_df.set_crs(epsg = \"4326\", inplace = True)\n",
    "reproj_pigs = geo_df.to_crs({'init': 'epsg:3577'})\n",
    "reproj_pigs.head()"
   ]
  },
  {
   "cell_type": "code",
   "execution_count": 12,
   "id": "5d6e68cf",
   "metadata": {},
   "outputs": [],
   "source": [
    "#draw a 250m-4.5km buffers around piggeries; use unary_union to merge overlapping buffers (i.e. preclude double counting)\n",
    "circlesP1 = unary_union(reproj_pigs.buffer(250))\n",
    "circlesP2 = unary_union(reproj_pigs.buffer(500))\n",
    "circlesP3 = unary_union(reproj_pigs.buffer(750))\n",
    "circlesP4 = unary_union(reproj_pigs.buffer(1000))\n",
    "circlesP5 = unary_union(reproj_pigs.buffer(1250))\n",
    "circlesP6 = unary_union(reproj_pigs.buffer(1500))\n",
    "circlesP7 = unary_union(reproj_pigs.buffer(1750))\n",
    "circlesP8 = unary_union(reproj_pigs.buffer(2000))\n",
    "circlesP9 = unary_union(reproj_pigs.buffer(2250))\n",
    "circlesP10 = unary_union(reproj_pigs.buffer(2500))\n",
    "circlesP11 = unary_union(reproj_pigs.buffer(2750))\n",
    "circlesP12 = unary_union(reproj_pigs.buffer(3000))\n",
    "circlesP13 = unary_union(reproj_pigs.buffer(3250))\n",
    "circlesP14 = unary_union(reproj_pigs.buffer(3500))\n",
    "circlesP15 = unary_union(reproj_pigs.buffer(3750))\n",
    "circlesP16 = unary_union(reproj_pigs.buffer(4000))\n",
    "circlesP17 = unary_union(reproj_pigs.buffer(4250))\n",
    "circlesP18 = unary_union(reproj_pigs.buffer(4500))\n",
    "circlesP4p4 = unary_union(reproj_pigs.buffer(4400))\n"
   ]
  },
  {
   "cell_type": "code",
   "execution_count": 20,
   "id": "556bc84e",
   "metadata": {},
   "outputs": [],
   "source": [
    "#convert buffer geometries back to same crs as WORLDPOP data\n",
    "Tpig = pyproj.CRS('EPSG:3577')\n",
    "x_pigs = pyproj.CRS('EPSG:4326')\n",
    "\n",
    "project = pyproj.Transformer.from_crs(Tpig, x_pigs, always_xy=True).transform\n",
    "x_pigs1 = transform(project, circlesP1)\n",
    "x_pigs2 = transform(project, circlesP2)\n",
    "x_pigs3 = transform(project, circlesP3)\n",
    "x_pigs4 = transform(project, circlesP4)\n",
    "x_pigs5 = transform(project, circlesP5)\n",
    "x_pigs6 = transform(project, circlesP6)\n",
    "x_pigs7 = transform(project, circlesP7)\n",
    "x_pigs8 = transform(project, circlesP8)\n",
    "x_pigs9 = transform(project, circlesP9)\n",
    "x_pigs10 = transform(project, circlesP10)\n",
    "x_pigs11 = transform(project, circlesP11)\n",
    "x_pigs12 = transform(project, circlesP12)\n",
    "x_pigs13 = transform(project, circlesP13)\n",
    "x_pigs14 = transform(project, circlesP14)\n",
    "x_pigs15 = transform(project, circlesP15)\n",
    "x_pigs16 = transform(project, circlesP16)\n",
    "x_pigs17 = transform(project, circlesP17)\n",
    "x_pigs18 = transform(project, circlesP18)\n",
    "x_pigs4p4 = transform(project, circlesP4p4)"
   ]
  },
  {
   "cell_type": "code",
   "execution_count": 19,
   "id": "0d87813b",
   "metadata": {},
   "outputs": [
    {
     "name": "stderr",
     "output_type": "stream",
     "text": [
      "C:\\Users\\IDCVLYAK\\Anaconda3\\envs\\pygdal\\lib\\site-packages\\pandas\\core\\frame.py:710: ShapelyDeprecationWarning: __len__ for multi-part geometries is deprecated and will be removed in Shapely 2.0. Check the length of the `geoms` property instead to get the  number of parts of a multi-part geometry.\n",
      "  data = list(data)\n",
      "C:\\Users\\IDCVLYAK\\Anaconda3\\envs\\pygdal\\lib\\site-packages\\pandas\\core\\frame.py:710: ShapelyDeprecationWarning: Iteration over multi-part geometries is deprecated and will be removed in Shapely 2.0. Use the `geoms` property to access the constituent parts of a multi-part geometry.\n",
      "  data = list(data)\n"
     ]
    },
    {
     "data": {
      "text/html": [
       "<div>\n",
       "<style scoped>\n",
       "    .dataframe tbody tr th:only-of-type {\n",
       "        vertical-align: middle;\n",
       "    }\n",
       "\n",
       "    .dataframe tbody tr th {\n",
       "        vertical-align: top;\n",
       "    }\n",
       "\n",
       "    .dataframe thead th {\n",
       "        text-align: right;\n",
       "    }\n",
       "</style>\n",
       "<table border=\"1\" class=\"dataframe\">\n",
       "  <thead>\n",
       "    <tr style=\"text-align: right;\">\n",
       "      <th></th>\n",
       "      <th>pigs</th>\n",
       "    </tr>\n",
       "  </thead>\n",
       "  <tbody>\n",
       "    <tr>\n",
       "      <th>0</th>\n",
       "      <td>POLYGON ((117.69921576027677 -34.9037520241365...</td>\n",
       "    </tr>\n",
       "    <tr>\n",
       "      <th>1</th>\n",
       "      <td>POLYGON ((138.87723999551685 -35.2883530674296...</td>\n",
       "    </tr>\n",
       "    <tr>\n",
       "      <th>2</th>\n",
       "      <td>POLYGON ((117.93196059754311 -34.7386640546327...</td>\n",
       "    </tr>\n",
       "    <tr>\n",
       "      <th>3</th>\n",
       "      <td>POLYGON ((138.7649354198705 -35.06299903933569...</td>\n",
       "    </tr>\n",
       "    <tr>\n",
       "      <th>4</th>\n",
       "      <td>POLYGON ((138.89372065588907 -34.9380321328334...</td>\n",
       "    </tr>\n",
       "  </tbody>\n",
       "</table>\n",
       "</div>"
      ],
      "text/plain": [
       "                                                pigs\n",
       "0  POLYGON ((117.69921576027677 -34.9037520241365...\n",
       "1  POLYGON ((138.87723999551685 -35.2883530674296...\n",
       "2  POLYGON ((117.93196059754311 -34.7386640546327...\n",
       "3  POLYGON ((138.7649354198705 -35.06299903933569...\n",
       "4  POLYGON ((138.89372065588907 -34.9380321328334..."
      ]
     },
     "execution_count": 19,
     "metadata": {},
     "output_type": "execute_result"
    }
   ],
   "source": [
    "dfx_pigs1 = pd.DataFrame (x_pigs1, columns = ['pigs'])\n",
    "dfx_pigs1.head()"
   ]
  },
  {
   "cell_type": "code",
   "execution_count": 22,
   "id": "e5aac668",
   "metadata": {},
   "outputs": [
    {
     "name": "stderr",
     "output_type": "stream",
     "text": [
      "C:\\Users\\IDCVLYAK\\Anaconda3\\envs\\pygdal\\lib\\site-packages\\pandas\\core\\frame.py:710: ShapelyDeprecationWarning: __len__ for multi-part geometries is deprecated and will be removed in Shapely 2.0. Check the length of the `geoms` property instead to get the  number of parts of a multi-part geometry.\n",
      "  data = list(data)\n",
      "C:\\Users\\IDCVLYAK\\Anaconda3\\envs\\pygdal\\lib\\site-packages\\pandas\\core\\frame.py:710: ShapelyDeprecationWarning: Iteration over multi-part geometries is deprecated and will be removed in Shapely 2.0. Use the `geoms` property to access the constituent parts of a multi-part geometry.\n",
      "  data = list(data)\n",
      "C:\\Users\\IDCVLYAK\\Anaconda3\\envs\\pygdal\\lib\\site-packages\\pandas\\core\\frame.py:710: ShapelyDeprecationWarning: __len__ for multi-part geometries is deprecated and will be removed in Shapely 2.0. Check the length of the `geoms` property instead to get the  number of parts of a multi-part geometry.\n",
      "  data = list(data)\n",
      "C:\\Users\\IDCVLYAK\\Anaconda3\\envs\\pygdal\\lib\\site-packages\\pandas\\core\\frame.py:710: ShapelyDeprecationWarning: Iteration over multi-part geometries is deprecated and will be removed in Shapely 2.0. Use the `geoms` property to access the constituent parts of a multi-part geometry.\n",
      "  data = list(data)\n",
      "C:\\Users\\IDCVLYAK\\Anaconda3\\envs\\pygdal\\lib\\site-packages\\pandas\\core\\frame.py:710: ShapelyDeprecationWarning: __len__ for multi-part geometries is deprecated and will be removed in Shapely 2.0. Check the length of the `geoms` property instead to get the  number of parts of a multi-part geometry.\n",
      "  data = list(data)\n",
      "C:\\Users\\IDCVLYAK\\Anaconda3\\envs\\pygdal\\lib\\site-packages\\pandas\\core\\frame.py:710: ShapelyDeprecationWarning: Iteration over multi-part geometries is deprecated and will be removed in Shapely 2.0. Use the `geoms` property to access the constituent parts of a multi-part geometry.\n",
      "  data = list(data)\n",
      "C:\\Users\\IDCVLYAK\\Anaconda3\\envs\\pygdal\\lib\\site-packages\\pandas\\core\\frame.py:710: ShapelyDeprecationWarning: __len__ for multi-part geometries is deprecated and will be removed in Shapely 2.0. Check the length of the `geoms` property instead to get the  number of parts of a multi-part geometry.\n",
      "  data = list(data)\n",
      "C:\\Users\\IDCVLYAK\\Anaconda3\\envs\\pygdal\\lib\\site-packages\\pandas\\core\\frame.py:710: ShapelyDeprecationWarning: Iteration over multi-part geometries is deprecated and will be removed in Shapely 2.0. Use the `geoms` property to access the constituent parts of a multi-part geometry.\n",
      "  data = list(data)\n",
      "C:\\Users\\IDCVLYAK\\Anaconda3\\envs\\pygdal\\lib\\site-packages\\pandas\\core\\frame.py:710: ShapelyDeprecationWarning: __len__ for multi-part geometries is deprecated and will be removed in Shapely 2.0. Check the length of the `geoms` property instead to get the  number of parts of a multi-part geometry.\n",
      "  data = list(data)\n",
      "C:\\Users\\IDCVLYAK\\Anaconda3\\envs\\pygdal\\lib\\site-packages\\pandas\\core\\frame.py:710: ShapelyDeprecationWarning: Iteration over multi-part geometries is deprecated and will be removed in Shapely 2.0. Use the `geoms` property to access the constituent parts of a multi-part geometry.\n",
      "  data = list(data)\n",
      "C:\\Users\\IDCVLYAK\\Anaconda3\\envs\\pygdal\\lib\\site-packages\\pandas\\core\\frame.py:710: ShapelyDeprecationWarning: __len__ for multi-part geometries is deprecated and will be removed in Shapely 2.0. Check the length of the `geoms` property instead to get the  number of parts of a multi-part geometry.\n",
      "  data = list(data)\n",
      "C:\\Users\\IDCVLYAK\\Anaconda3\\envs\\pygdal\\lib\\site-packages\\pandas\\core\\frame.py:710: ShapelyDeprecationWarning: Iteration over multi-part geometries is deprecated and will be removed in Shapely 2.0. Use the `geoms` property to access the constituent parts of a multi-part geometry.\n",
      "  data = list(data)\n",
      "C:\\Users\\IDCVLYAK\\Anaconda3\\envs\\pygdal\\lib\\site-packages\\pandas\\core\\frame.py:710: ShapelyDeprecationWarning: __len__ for multi-part geometries is deprecated and will be removed in Shapely 2.0. Check the length of the `geoms` property instead to get the  number of parts of a multi-part geometry.\n",
      "  data = list(data)\n",
      "C:\\Users\\IDCVLYAK\\Anaconda3\\envs\\pygdal\\lib\\site-packages\\pandas\\core\\frame.py:710: ShapelyDeprecationWarning: Iteration over multi-part geometries is deprecated and will be removed in Shapely 2.0. Use the `geoms` property to access the constituent parts of a multi-part geometry.\n",
      "  data = list(data)\n",
      "C:\\Users\\IDCVLYAK\\Anaconda3\\envs\\pygdal\\lib\\site-packages\\pandas\\core\\frame.py:710: ShapelyDeprecationWarning: __len__ for multi-part geometries is deprecated and will be removed in Shapely 2.0. Check the length of the `geoms` property instead to get the  number of parts of a multi-part geometry.\n",
      "  data = list(data)\n",
      "C:\\Users\\IDCVLYAK\\Anaconda3\\envs\\pygdal\\lib\\site-packages\\pandas\\core\\frame.py:710: ShapelyDeprecationWarning: Iteration over multi-part geometries is deprecated and will be removed in Shapely 2.0. Use the `geoms` property to access the constituent parts of a multi-part geometry.\n",
      "  data = list(data)\n",
      "C:\\Users\\IDCVLYAK\\Anaconda3\\envs\\pygdal\\lib\\site-packages\\pandas\\core\\frame.py:710: ShapelyDeprecationWarning: __len__ for multi-part geometries is deprecated and will be removed in Shapely 2.0. Check the length of the `geoms` property instead to get the  number of parts of a multi-part geometry.\n",
      "  data = list(data)\n",
      "C:\\Users\\IDCVLYAK\\Anaconda3\\envs\\pygdal\\lib\\site-packages\\pandas\\core\\frame.py:710: ShapelyDeprecationWarning: Iteration over multi-part geometries is deprecated and will be removed in Shapely 2.0. Use the `geoms` property to access the constituent parts of a multi-part geometry.\n",
      "  data = list(data)\n",
      "C:\\Users\\IDCVLYAK\\Anaconda3\\envs\\pygdal\\lib\\site-packages\\pandas\\core\\frame.py:710: ShapelyDeprecationWarning: __len__ for multi-part geometries is deprecated and will be removed in Shapely 2.0. Check the length of the `geoms` property instead to get the  number of parts of a multi-part geometry.\n",
      "  data = list(data)\n",
      "C:\\Users\\IDCVLYAK\\Anaconda3\\envs\\pygdal\\lib\\site-packages\\pandas\\core\\frame.py:710: ShapelyDeprecationWarning: Iteration over multi-part geometries is deprecated and will be removed in Shapely 2.0. Use the `geoms` property to access the constituent parts of a multi-part geometry.\n",
      "  data = list(data)\n",
      "C:\\Users\\IDCVLYAK\\Anaconda3\\envs\\pygdal\\lib\\site-packages\\pandas\\core\\frame.py:710: ShapelyDeprecationWarning: __len__ for multi-part geometries is deprecated and will be removed in Shapely 2.0. Check the length of the `geoms` property instead to get the  number of parts of a multi-part geometry.\n",
      "  data = list(data)\n",
      "C:\\Users\\IDCVLYAK\\Anaconda3\\envs\\pygdal\\lib\\site-packages\\pandas\\core\\frame.py:710: ShapelyDeprecationWarning: Iteration over multi-part geometries is deprecated and will be removed in Shapely 2.0. Use the `geoms` property to access the constituent parts of a multi-part geometry.\n",
      "  data = list(data)\n",
      "C:\\Users\\IDCVLYAK\\Anaconda3\\envs\\pygdal\\lib\\site-packages\\pandas\\core\\frame.py:710: ShapelyDeprecationWarning: __len__ for multi-part geometries is deprecated and will be removed in Shapely 2.0. Check the length of the `geoms` property instead to get the  number of parts of a multi-part geometry.\n",
      "  data = list(data)\n",
      "C:\\Users\\IDCVLYAK\\Anaconda3\\envs\\pygdal\\lib\\site-packages\\pandas\\core\\frame.py:710: ShapelyDeprecationWarning: Iteration over multi-part geometries is deprecated and will be removed in Shapely 2.0. Use the `geoms` property to access the constituent parts of a multi-part geometry.\n",
      "  data = list(data)\n",
      "C:\\Users\\IDCVLYAK\\Anaconda3\\envs\\pygdal\\lib\\site-packages\\pandas\\core\\frame.py:710: ShapelyDeprecationWarning: __len__ for multi-part geometries is deprecated and will be removed in Shapely 2.0. Check the length of the `geoms` property instead to get the  number of parts of a multi-part geometry.\n",
      "  data = list(data)\n",
      "C:\\Users\\IDCVLYAK\\Anaconda3\\envs\\pygdal\\lib\\site-packages\\pandas\\core\\frame.py:710: ShapelyDeprecationWarning: Iteration over multi-part geometries is deprecated and will be removed in Shapely 2.0. Use the `geoms` property to access the constituent parts of a multi-part geometry.\n",
      "  data = list(data)\n",
      "C:\\Users\\IDCVLYAK\\Anaconda3\\envs\\pygdal\\lib\\site-packages\\pandas\\core\\frame.py:710: ShapelyDeprecationWarning: __len__ for multi-part geometries is deprecated and will be removed in Shapely 2.0. Check the length of the `geoms` property instead to get the  number of parts of a multi-part geometry.\n",
      "  data = list(data)\n",
      "C:\\Users\\IDCVLYAK\\Anaconda3\\envs\\pygdal\\lib\\site-packages\\pandas\\core\\frame.py:710: ShapelyDeprecationWarning: Iteration over multi-part geometries is deprecated and will be removed in Shapely 2.0. Use the `geoms` property to access the constituent parts of a multi-part geometry.\n",
      "  data = list(data)\n",
      "C:\\Users\\IDCVLYAK\\Anaconda3\\envs\\pygdal\\lib\\site-packages\\pandas\\core\\frame.py:710: ShapelyDeprecationWarning: __len__ for multi-part geometries is deprecated and will be removed in Shapely 2.0. Check the length of the `geoms` property instead to get the  number of parts of a multi-part geometry.\n",
      "  data = list(data)\n",
      "C:\\Users\\IDCVLYAK\\Anaconda3\\envs\\pygdal\\lib\\site-packages\\pandas\\core\\frame.py:710: ShapelyDeprecationWarning: Iteration over multi-part geometries is deprecated and will be removed in Shapely 2.0. Use the `geoms` property to access the constituent parts of a multi-part geometry.\n",
      "  data = list(data)\n",
      "C:\\Users\\IDCVLYAK\\Anaconda3\\envs\\pygdal\\lib\\site-packages\\pandas\\core\\frame.py:710: ShapelyDeprecationWarning: __len__ for multi-part geometries is deprecated and will be removed in Shapely 2.0. Check the length of the `geoms` property instead to get the  number of parts of a multi-part geometry.\n",
      "  data = list(data)\n",
      "C:\\Users\\IDCVLYAK\\Anaconda3\\envs\\pygdal\\lib\\site-packages\\pandas\\core\\frame.py:710: ShapelyDeprecationWarning: Iteration over multi-part geometries is deprecated and will be removed in Shapely 2.0. Use the `geoms` property to access the constituent parts of a multi-part geometry.\n",
      "  data = list(data)\n",
      "C:\\Users\\IDCVLYAK\\Anaconda3\\envs\\pygdal\\lib\\site-packages\\pandas\\core\\frame.py:710: ShapelyDeprecationWarning: __len__ for multi-part geometries is deprecated and will be removed in Shapely 2.0. Check the length of the `geoms` property instead to get the  number of parts of a multi-part geometry.\n",
      "  data = list(data)\n",
      "C:\\Users\\IDCVLYAK\\Anaconda3\\envs\\pygdal\\lib\\site-packages\\pandas\\core\\frame.py:710: ShapelyDeprecationWarning: Iteration over multi-part geometries is deprecated and will be removed in Shapely 2.0. Use the `geoms` property to access the constituent parts of a multi-part geometry.\n",
      "  data = list(data)\n",
      "C:\\Users\\IDCVLYAK\\Anaconda3\\envs\\pygdal\\lib\\site-packages\\pandas\\core\\frame.py:710: ShapelyDeprecationWarning: __len__ for multi-part geometries is deprecated and will be removed in Shapely 2.0. Check the length of the `geoms` property instead to get the  number of parts of a multi-part geometry.\n",
      "  data = list(data)\n",
      "C:\\Users\\IDCVLYAK\\Anaconda3\\envs\\pygdal\\lib\\site-packages\\pandas\\core\\frame.py:710: ShapelyDeprecationWarning: Iteration over multi-part geometries is deprecated and will be removed in Shapely 2.0. Use the `geoms` property to access the constituent parts of a multi-part geometry.\n",
      "  data = list(data)\n",
      "C:\\Users\\IDCVLYAK\\Anaconda3\\envs\\pygdal\\lib\\site-packages\\pandas\\core\\frame.py:710: ShapelyDeprecationWarning: __len__ for multi-part geometries is deprecated and will be removed in Shapely 2.0. Check the length of the `geoms` property instead to get the  number of parts of a multi-part geometry.\n",
      "  data = list(data)\n",
      "C:\\Users\\IDCVLYAK\\Anaconda3\\envs\\pygdal\\lib\\site-packages\\pandas\\core\\frame.py:710: ShapelyDeprecationWarning: Iteration over multi-part geometries is deprecated and will be removed in Shapely 2.0. Use the `geoms` property to access the constituent parts of a multi-part geometry.\n",
      "  data = list(data)\n"
     ]
    },
    {
     "data": {
      "text/html": [
       "<div>\n",
       "<style scoped>\n",
       "    .dataframe tbody tr th:only-of-type {\n",
       "        vertical-align: middle;\n",
       "    }\n",
       "\n",
       "    .dataframe tbody tr th {\n",
       "        vertical-align: top;\n",
       "    }\n",
       "\n",
       "    .dataframe thead th {\n",
       "        text-align: right;\n",
       "    }\n",
       "</style>\n",
       "<table border=\"1\" class=\"dataframe\">\n",
       "  <thead>\n",
       "    <tr style=\"text-align: right;\">\n",
       "      <th></th>\n",
       "      <th>pigs</th>\n",
       "    </tr>\n",
       "  </thead>\n",
       "  <tbody>\n",
       "    <tr>\n",
       "      <th>0</th>\n",
       "      <td>POLYGON ((117.69921576027677 -34.9037520241365...</td>\n",
       "    </tr>\n",
       "    <tr>\n",
       "      <th>1</th>\n",
       "      <td>POLYGON ((138.87723999551685 -35.2883530674296...</td>\n",
       "    </tr>\n",
       "    <tr>\n",
       "      <th>2</th>\n",
       "      <td>POLYGON ((117.93196059754311 -34.7386640546327...</td>\n",
       "    </tr>\n",
       "    <tr>\n",
       "      <th>3</th>\n",
       "      <td>POLYGON ((138.7649354198705 -35.06299903933569...</td>\n",
       "    </tr>\n",
       "    <tr>\n",
       "      <th>4</th>\n",
       "      <td>POLYGON ((138.89372065588907 -34.9380321328334...</td>\n",
       "    </tr>\n",
       "  </tbody>\n",
       "</table>\n",
       "</div>"
      ],
      "text/plain": [
       "                                                pigs\n",
       "0  POLYGON ((117.69921576027677 -34.9037520241365...\n",
       "1  POLYGON ((138.87723999551685 -35.2883530674296...\n",
       "2  POLYGON ((117.93196059754311 -34.7386640546327...\n",
       "3  POLYGON ((138.7649354198705 -35.06299903933569...\n",
       "4  POLYGON ((138.89372065588907 -34.9380321328334..."
      ]
     },
     "execution_count": 22,
     "metadata": {},
     "output_type": "execute_result"
    }
   ],
   "source": [
    "#convert the list of circle polygons into a dataframe\n",
    "dfx_pigs1 = pd.DataFrame (x_pigs1, columns = ['pigs'])\n",
    "dfx_pigs2 = pd.DataFrame (x_pigs2, columns = ['pigs'])\n",
    "dfx_pigs3 = pd.DataFrame (x_pigs3, columns = ['pigs'])\n",
    "dfx_pigs4 = pd.DataFrame (x_pigs4, columns = ['pigs'])\n",
    "dfx_pigs5 = pd.DataFrame (x_pigs5, columns = ['pigs'])\n",
    "dfx_pigs6 = pd.DataFrame (x_pigs6, columns = ['pigs'])\n",
    "dfx_pigs7 = pd.DataFrame (x_pigs7, columns = ['pigs'])\n",
    "dfx_pigs8 = pd.DataFrame (x_pigs8, columns = ['pigs'])\n",
    "dfx_pigs9 = pd.DataFrame (x_pigs9, columns = ['pigs'])\n",
    "dfx_pigs10 = pd.DataFrame (x_pigs10, columns = ['pigs'])\n",
    "dfx_pigs11 = pd.DataFrame (x_pigs11, columns = ['pigs'])\n",
    "dfx_pigs12 = pd.DataFrame (x_pigs12, columns = ['pigs'])\n",
    "dfx_pigs13 = pd.DataFrame (x_pigs13, columns = ['pigs'])\n",
    "dfx_pigs14 = pd.DataFrame (x_pigs14, columns = ['pigs'])\n",
    "dfx_pigs15 = pd.DataFrame (x_pigs15, columns = ['pigs'])\n",
    "dfx_pigs16 = pd.DataFrame (x_pigs16, columns = ['pigs'])\n",
    "dfx_pigs17 = pd.DataFrame (x_pigs17, columns = ['pigs'])\n",
    "dfx_pigs18 = pd.DataFrame (x_pigs18, columns = ['pigs'])\n",
    "dfx_pigs4p4 = pd.DataFrame (x_pigs4p4, columns = ['pigs'])\n",
    "dfx_pigs1.head()"
   ]
  },
  {
   "cell_type": "code",
   "execution_count": 23,
   "id": "079f85b0",
   "metadata": {},
   "outputs": [],
   "source": [
    "#rasterio allows you to \"mask\" the pop counts (raster) onto the PIGGERY boundaries (vector) - this can take 30mins+\n",
    "def get_population_count(vector_polygon,raster_layer):\n",
    "  gtraster, bound = mask(raster_layer, [vector_polygon], crop=True)\n",
    "  pop_estimate = gtraster[0][gtraster[0]>0].sum()\n",
    "  return (pop_estimate.round(2))\n",
    "\n",
    "dfx_pigs1['population_count_wp'] = dfx_pigs1['pigs'].apply(get_population_count,raster_layer=ozPOP)\n",
    "dfx_pigs2['population_count_wp'] = dfx_pigs2['pigs'].apply(get_population_count,raster_layer=ozPOP)\n",
    "dfx_pigs3['population_count_wp'] = dfx_pigs3['pigs'].apply(get_population_count,raster_layer=ozPOP)\n",
    "dfx_pigs4['population_count_wp'] = dfx_pigs4['pigs'].apply(get_population_count,raster_layer=ozPOP)\n",
    "dfx_pigs5['population_count_wp'] = dfx_pigs5['pigs'].apply(get_population_count,raster_layer=ozPOP)\n",
    "dfx_pigs6['population_count_wp'] = dfx_pigs6['pigs'].apply(get_population_count,raster_layer=ozPOP)\n",
    "dfx_pigs7['population_count_wp'] = dfx_pigs7['pigs'].apply(get_population_count,raster_layer=ozPOP)\n",
    "dfx_pigs8['population_count_wp'] = dfx_pigs8['pigs'].apply(get_population_count,raster_layer=ozPOP)\n",
    "dfx_pigs9['population_count_wp'] = dfx_pigs9['pigs'].apply(get_population_count,raster_layer=ozPOP)\n",
    "dfx_pigs10['population_count_wp'] = dfx_pigs10['pigs'].apply(get_population_count,raster_layer=ozPOP)\n",
    "dfx_pigs11['population_count_wp'] = dfx_pigs11['pigs'].apply(get_population_count,raster_layer=ozPOP)\n",
    "dfx_pigs12['population_count_wp'] = dfx_pigs12['pigs'].apply(get_population_count,raster_layer=ozPOP)\n",
    "dfx_pigs13['population_count_wp'] = dfx_pigs13['pigs'].apply(get_population_count,raster_layer=ozPOP)\n",
    "dfx_pigs14['population_count_wp'] = dfx_pigs14['pigs'].apply(get_population_count,raster_layer=ozPOP)\n",
    "dfx_pigs15['population_count_wp'] = dfx_pigs15['pigs'].apply(get_population_count,raster_layer=ozPOP)\n",
    "dfx_pigs16['population_count_wp'] = dfx_pigs16['pigs'].apply(get_population_count,raster_layer=ozPOP)\n",
    "dfx_pigs17['population_count_wp'] = dfx_pigs17['pigs'].apply(get_population_count,raster_layer=ozPOP)\n",
    "dfx_pigs18['population_count_wp'] = dfx_pigs18['pigs'].apply(get_population_count,raster_layer=ozPOP)\n",
    "dfx_pigs4p4['population_count_wp'] = dfx_pigs4p4['pigs'].apply(get_population_count,raster_layer=ozPOP)\n",
    "\n",
    "#dfx_pigs['population_count_wp_million'] = round(dfx_pigs['population_count_wp']/1000000,2)"
   ]
  },
  {
   "cell_type": "code",
   "execution_count": 24,
   "id": "e0f5c2e6",
   "metadata": {},
   "outputs": [
    {
     "data": {
      "text/html": [
       "<div>\n",
       "<style scoped>\n",
       "    .dataframe tbody tr th:only-of-type {\n",
       "        vertical-align: middle;\n",
       "    }\n",
       "\n",
       "    .dataframe tbody tr th {\n",
       "        vertical-align: top;\n",
       "    }\n",
       "\n",
       "    .dataframe thead th {\n",
       "        text-align: right;\n",
       "    }\n",
       "</style>\n",
       "<table border=\"1\" class=\"dataframe\">\n",
       "  <thead>\n",
       "    <tr style=\"text-align: right;\">\n",
       "      <th></th>\n",
       "      <th>pigs</th>\n",
       "      <th>population_count_wp</th>\n",
       "    </tr>\n",
       "  </thead>\n",
       "  <tbody>\n",
       "    <tr>\n",
       "      <th>0</th>\n",
       "      <td>POLYGON ((117.69921576027677 -34.9037520241365...</td>\n",
       "      <td>4.74</td>\n",
       "    </tr>\n",
       "    <tr>\n",
       "      <th>1</th>\n",
       "      <td>POLYGON ((138.87723999551685 -35.2883530674296...</td>\n",
       "      <td>4.64</td>\n",
       "    </tr>\n",
       "    <tr>\n",
       "      <th>2</th>\n",
       "      <td>POLYGON ((117.93196059754311 -34.7386640546327...</td>\n",
       "      <td>4.53</td>\n",
       "    </tr>\n",
       "    <tr>\n",
       "      <th>3</th>\n",
       "      <td>POLYGON ((138.7649354198705 -35.06299903933569...</td>\n",
       "      <td>14.15</td>\n",
       "    </tr>\n",
       "    <tr>\n",
       "      <th>4</th>\n",
       "      <td>POLYGON ((138.89372065588907 -34.9380321328334...</td>\n",
       "      <td>3.47</td>\n",
       "    </tr>\n",
       "  </tbody>\n",
       "</table>\n",
       "</div>"
      ],
      "text/plain": [
       "                                                pigs  population_count_wp\n",
       "0  POLYGON ((117.69921576027677 -34.9037520241365...                 4.74\n",
       "1  POLYGON ((138.87723999551685 -35.2883530674296...                 4.64\n",
       "2  POLYGON ((117.93196059754311 -34.7386640546327...                 4.53\n",
       "3  POLYGON ((138.7649354198705 -35.06299903933569...                14.15\n",
       "4  POLYGON ((138.89372065588907 -34.9380321328334...                 3.47"
      ]
     },
     "execution_count": 24,
     "metadata": {},
     "output_type": "execute_result"
    }
   ],
   "source": [
    "dfx_pigs1.head()"
   ]
  },
  {
   "cell_type": "code",
   "execution_count": 25,
   "id": "82c741a4",
   "metadata": {},
   "outputs": [
    {
     "name": "stdout",
     "output_type": "stream",
     "text": [
      "555623.5\n"
     ]
    }
   ],
   "source": [
    "T1 = dfx_pigs1['population_count_wp'].sum()\n",
    "T2 = dfx_pigs2['population_count_wp'].sum()\n",
    "T3 = dfx_pigs3['population_count_wp'].sum()\n",
    "T4 = dfx_pigs4['population_count_wp'].sum()\n",
    "T5 = dfx_pigs5['population_count_wp'].sum()\n",
    "T6 = dfx_pigs6['population_count_wp'].sum()\n",
    "T7 = dfx_pigs7['population_count_wp'].sum()\n",
    "T8 = dfx_pigs8['population_count_wp'].sum()\n",
    "T9 = dfx_pigs9['population_count_wp'].sum()\n",
    "T10 = dfx_pigs10['population_count_wp'].sum()\n",
    "T11 = dfx_pigs11['population_count_wp'].sum()\n",
    "T12 = dfx_pigs12['population_count_wp'].sum()\n",
    "T13 = dfx_pigs13['population_count_wp'].sum()\n",
    "T14 = dfx_pigs14['population_count_wp'].sum()\n",
    "T15 = dfx_pigs15['population_count_wp'].sum()\n",
    "T16 = dfx_pigs16['population_count_wp'].sum()\n",
    "T17 = dfx_pigs17['population_count_wp'].sum()\n",
    "T18 = dfx_pigs18['population_count_wp'].sum()\n",
    "T4p4 = dfx_pigs4p4['population_count_wp'].sum()\n",
    "print(T4p4)"
   ]
  },
  {
   "cell_type": "code",
   "execution_count": 26,
   "id": "e377e7c1",
   "metadata": {},
   "outputs": [
    {
     "name": "stdout",
     "output_type": "stream",
     "text": [
      "[3496.63, 10758.85, 20593.2, 32461.45, 47357.16, 65748.03, 90432.68, 121144.18, 154693.39, 188014.39, 224739.17, 263752.38, 306471.6, 353430.28, 403355.5, 455764.22, 515528.94, 583612.1]\n"
     ]
    }
   ],
   "source": [
    "PigPLOT=[T1,T2,T3,T4,T5,T6,T7,T8,T9,T10,T11,T12,T13,T14,T15,T16,T17,T18]\n",
    "print(PigPLOT)"
   ]
  },
  {
   "cell_type": "code",
   "execution_count": 30,
   "id": "800961f8",
   "metadata": {},
   "outputs": [
    {
     "data": {
      "image/png": "[encoded data removed]",
      "text/plain": [
       "<Figure size 288x288 with 1 Axes>"
      ]
     },
     "metadata": {
      "needs_background": "light"
     },
     "output_type": "display_data"
    }
   ],
   "source": [
    "PigX=[250,500,750,1000,1250,1500,1750,2000,2250,2500,2750,3000,3250,3500,3750,4000,4250,4500]\n",
    "pigY = [3496.63, 10758.85, 20593.2, 32461.45, 47357.16, 65748.03, 90432.68, 121144.18, 154693.39,\\\n",
    "        188014.39, 224739.17, 263752.38, 306471.6, 353430.28, 403355.5, 455764.22, 515528.94, 583612.1]\n",
    "\n",
    "fig,ax = plt.subplots(figsize = (4,4))\n",
    "\n",
    "ax.grid(zorder=0, alpha=0.3)\n",
    "ax.bar(PigX,pigY,color='midnightblue',width=200,zorder=2)\n",
    "plt.xlabel('Mosquito flight distance (metres)',fontsize=12,color='midnightblue')\n",
    "plt.ylabel('Human population at risk',fontsize=12,color='midnightblue')\n",
    "plt.xticks(fontsize=12,color='midnightblue')\n",
    "plt.yticks(fontsize=12,color='midnightblue')\n",
    "ax.spines['bottom'].set_color('midnightblue')\n",
    "ax.spines['top'].set_color('midnightblue')\n",
    "ax.spines['left'].set_color('midnightblue')\n",
    "ax.spines['right'].set_color('midnightblue')\n",
    "plt.savefig('JEV mosquito flight.png', bbox_inches=\"tight\", dpi = 600)\n",
    "plt.savefig('JEV mosquito flight.tif', bbox_inches=\"tight\", dpi = 600)"
   ]
  }
 ],
 "metadata": {
  "kernelspec": {
   "display_name": "Python 3 (ipykernel)",
   "language": "python",
   "name": "python3"
  },
  "language_info": {
   "codemirror_mode": {
    "name": "ipython",
    "version": 3
   },
   "file_extension": ".py",
   "mimetype": "text/x-python",
   "name": "python",
   "nbconvert_exporter": "python",
   "pygments_lexer": "ipython3",
   "version": "3.10.2"
  }
 },
 "nbformat": 4,
 "nbformat_minor": 5
}
